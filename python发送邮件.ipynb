{
 "cells": [
  {
   "cell_type": "code",
   "execution_count": 4,
   "metadata": {},
   "outputs": [],
   "source": [
    "import smtplib\n",
    "from email.mime.text import MIMEText\n",
    "from email.header import Header\n",
    "import re"
   ]
  },
  {
   "cell_type": "code",
   "execution_count": 9,
   "metadata": {},
   "outputs": [
    {
     "name": "stdout",
     "output_type": "stream",
     "text": [
      "请输出接收邮箱：\n",
      "输入邮箱有问题\n",
      "请重新输出接收邮箱：\n",
      "请输入邮件内容：python 测试\n",
      "邮件发送成功\n"
     ]
    }
   ],
   "source": [
    "# 第三方 SMTP 服务\n",
    "mail_host = \"smtp.qq.com\"  #设置服务器\n",
    "mail_user = \"\"    #用户名\n",
    "mail_pass = \"\" #口令 \n",
    "sender = ''      #发送的邮箱\n",
    "# receivers = ''   #接收的邮箱\n",
    "receivers=input('请输出接收邮箱：')\n",
    "while is_mailbox(receivers)==False:\n",
    "    print('输入邮箱有问题')\n",
    "    receivers=input('请重新输出接收邮箱：')\n",
    "\n",
    "mailtext=input('请输入邮件内容：')\n",
    "message = MIMEText(mailtext)   #邮件内容\n",
    "message['From'] = Header(\"python.engine\", 'utf-8')   #发件人\n",
    "message['To'] =  Header(receivers, 'utf-8')\n",
    " \n",
    "subject = 'python发送邮件'                            #邮件主题\n",
    "message['Subject'] = Header(subject)\n",
    " \n",
    "try:\n",
    "    smtpObj = smtplib.SMTP() \n",
    "    smtpObj.connect(mail_host,587)    # 587 为 SMTP 端口号\n",
    "    smtpObj.login(mail_user,mail_pass)\n",
    "    smtpObj.sendmail(sender, receivers, message.as_string())\n",
    "    print(\"邮件发送成功\")\n",
    "except smtplib.SMTPException:\n",
    "    print(\"Error: 无法发送邮件\")"
   ]
  },
  {
   "cell_type": "code",
   "execution_count": 5,
   "metadata": {},
   "outputs": [],
   "source": [
    "def is_mailbox(mailbox):\n",
    "    if (re.compile(r'^[1-9][0-9]{4,10}@qq\\.com')).match(mailbox):\n",
    "        return True\n",
    "    return False"
   ]
  },
  {
   "cell_type": "code",
   "execution_count": null,
   "metadata": {},
   "outputs": [],
   "source": []
  },
  {
   "cell_type": "code",
   "execution_count": null,
   "metadata": {},
   "outputs": [],
   "source": []
  },
  {
   "cell_type": "code",
   "execution_count": null,
   "metadata": {},
   "outputs": [],
   "source": []
  },
  {
   "cell_type": "code",
   "execution_count": null,
   "metadata": {},
   "outputs": [],
   "source": []
  },
  {
   "cell_type": "code",
   "execution_count": null,
   "metadata": {},
   "outputs": [],
   "source": []
  },
  {
   "cell_type": "code",
   "execution_count": null,
   "metadata": {},
   "outputs": [],
   "source": []
  },
  {
   "cell_type": "code",
   "execution_count": 4,
   "metadata": {},
   "outputs": [],
   "source": [
    "def is_mailbox(mailbox):\n",
    "    if (re.compile(r'^[1-9][0-9]{4,10}@qq\\.com')).match(mailbox):\n",
    "        return True\n",
    "    return False"
   ]
  },
  {
   "cell_type": "code",
   "execution_count": null,
   "metadata": {},
   "outputs": [],
   "source": []
  },
  {
   "cell_type": "code",
   "execution_count": null,
   "metadata": {},
   "outputs": [],
   "source": []
  },
  {
   "cell_type": "code",
   "execution_count": null,
   "metadata": {},
   "outputs": [],
   "source": []
  },
  {
   "cell_type": "code",
   "execution_count": null,
   "metadata": {},
   "outputs": [],
   "source": []
  },
  {
   "cell_type": "code",
   "execution_count": null,
   "metadata": {},
   "outputs": [],
   "source": []
  }
 ],
 "metadata": {
  "kernelspec": {
   "display_name": "Python 3",
   "language": "python",
   "name": "python3"
  },
  "language_info": {
   "codemirror_mode": {
    "name": "ipython",
    "version": 3
   },
   "file_extension": ".py",
   "mimetype": "text/x-python",
   "name": "python",
   "nbconvert_exporter": "python",
   "pygments_lexer": "ipython3",
   "version": "3.7.1"
  }
 },
 "nbformat": 4,
 "nbformat_minor": 4
}
